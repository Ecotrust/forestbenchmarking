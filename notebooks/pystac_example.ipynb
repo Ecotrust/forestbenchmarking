{
    "cells": [
        {
            "cell_type": "markdown",
            "metadata": {},
            "source": [
                "# Forest Benchmarking STAC Catalog\n",
                "\n",
                "This notebook demonstrates how to generate a STAC catalog using a sample of the following datasets: \n",
                "- [GFLandsat_V1 dataset](https://www.ntsg.umt.edu/project/landsat/landsat-gapfill-reflect.php). The data represents gap-filled montly observations derived from Lansat and MODIS sensors at a 30m spatial resolution generated with the HISTARFM algorithm [(Moreno-Martínez et al. 2020)](https://www.sciencedirect.com/science/article/pii/S0034425720302716).\n",
                "- LandTrendr is a time series analysis algorithm that uses Landsat imagery to detect changes in land cover and land use over time. The algorithm was implemented in Google Earth Engine by [Kennedy et al. (2018)](https://www.mdpi.com/2072-4292/10/5/691).\n",
                "- National Agriculture Imagery Program (NAIP). Ortho photography collected by the USDA during the agricultural peak growing season. \n",
                "- 3DEP Digital Elevation Model. "
            ]
        },
        {
            "cell_type": "code",
            "execution_count": 1,
            "metadata": {},
            "outputs": [],
            "source": [
                "import os\n",
                "import glob \n",
                "import json\n",
                "from datetime import datetime\n",
                "\n",
                "import pystac\n",
                "from pystac.extensions.eo import Band, EOExtension\n",
                "from pystac.extensions.label import LabelExtension, LabelType, LabelClasses\n",
                "\n",
                "import ee\n",
                "import geopandas as gpd\n",
                "import rasterio"
            ]
        },
        {
            "cell_type": "markdown",
            "metadata": {},
            "source": [
                "# Generate local repository for each dataset in the catalog\n",
                "\n",
                "## Catalog file structure\n",
                "\n",
                "```\n",
                "root\n",
                "|___dataset collection\n",
                "|   |__qq_id_dataset_id\n",
                "|      |__COG\n",
                "|      |__Thumbnail\n",
                "|      |__Metadata\n",
                "|    \n",
                "|__label collection\n",
                "   |__qq_id-labels\n",
                "      |__FeatureCollection\n",
                "```"
            ]
        },
        {
            "cell_type": "code",
            "execution_count": 2,
            "metadata": {},
            "outputs": [],
            "source": [
                "# Initialize the Earth Engine module.\n",
                "# You need to setup your Google Earth Engine API key before running this cell.\n",
                "ee.Initialize()"
            ]
        },
        {
            "cell_type": "markdown",
            "metadata": {},
            "source": [
                "# Build catalog"
            ]
        },
        {
            "cell_type": "code",
            "execution_count": 3,
            "metadata": {},
            "outputs": [],
            "source": [
                "qq_shp = gpd.read_file('../data/external/usfs_stands/oregon_quarter_quads_sample.geojson')\n",
                "\n",
                "fbench = pystac.Catalog(\n",
                "    id = 'forest_benchmarking', \n",
                "    description = 'STAC implementation for modelling and benchmarking forest attributes',\n",
                "    title = 'STAC implementation for modelling and benchmarking forest attributes',\n",
                ")"
            ]
        },
        {
            "cell_type": "code",
            "execution_count": 4,
            "metadata": {},
            "outputs": [],
            "source": [
                "def get_qq_bbox(qq_id):\n",
                "    from shapely import geometry\n",
                "    \n",
                "    geom = qq_shp[qq_shp['CELL_ID'] == qq_id].geometry.values[0]\n",
                "    if isinstance(geom, geometry.MultiPolygon):\n",
                "        geom = geometry.box(*geom.bounds, ccw=True)\n",
                "\n",
                "    geom_json = json.loads(gpd.GeoSeries(geom).to_json())\n",
                "    # json.dumps(geometry.mapping(geom))\n",
                "    \n",
                "    return geom_json"
            ]
        },
        {
            "cell_type": "code",
            "execution_count": 5,
            "metadata": {},
            "outputs": [],
            "source": [
                "def create_label_item(catalog, label_path, label_attr):\n",
                "    \"\"\"\n",
                "    Create a label item.\n",
                "\n",
                "    Parameters\n",
                "    ----------\n",
                "    catalog : pystac.Catalog\n",
                "        The catalog with the items that will be used to create the label item.\n",
                "    label_path : str\n",
                "        The path to the label geojson.\n",
                "    label_attr : dict\n",
                "        Dictionary with attributes for the label item.\n",
                "\n",
                "    Returns\n",
                "    -------\n",
                "    label_item : pystac.Item\n",
                "    \"\"\"\n",
                "    EPSG = 'EPSG:4326'\n",
                "\n",
                "    # Read the label data\n",
                "    label_data = gpd.read_file(label_path)\n",
                "    bbox = label_data.total_bounds.tolist()\n",
                "    label_classes = label_data[label_attr['label_properties'][0]].unique().tolist()\n",
                "    label_data = label_data.to_crs(EPSG)\n",
                "    label_data = label_data.to_json()\n",
                "    label_data = json.loads(label_data)\n",
                "\n",
                "    # Label id \n",
                "    label_id = label_path.split('/')[-1].replace('.geojson', '')\n",
                "\n",
                "    # Create label item\n",
                "    label_item = pystac.Item(\n",
                "        id=f'{label_id}-labels',\n",
                "        geometry=label_data,\n",
                "        bbox=bbox,\n",
                "        datetime=label_attr['label_date'],\n",
                "        properties={}\n",
                "    )\n",
                "\n",
                "    label = LabelExtension.ext(label_item, add_if_missing=True)\n",
                "    label.apply(\n",
                "        label_description=label_attr['label_description'],\n",
                "        label_type=label_attr['label_type'],\n",
                "        label_properties=label_attr['label_properties'],\n",
                "        label_tasks=label_attr['label_tasks'],\n",
                "        label_classes= [\n",
                "            LabelClasses.create(classes=label_classes, name=label_attr['label_name'])\n",
                "        ]\n",
                "    )\n",
                "\n",
                "    label.add_geojson_labels(href=label_path)\n",
                "\n",
                "    # Iterate over all items in the catalog and add references to assets in the same stand.\n",
                "    # We'll need a better way to do this for large collections.\n",
                "    label_cell_id = label_id.split('_')[0]\n",
                "    for item in catalog.get_all_items():\n",
                "        if item.id.split('_')[0] == label_cell_id:\n",
                "            label.add_source(item, assets=['image'])\n",
                "\n",
                "    return label_item\n",
                "\n",
                "\n",
                "def create_item(image_path, thumb_path, metadata_path):\n",
                "    \"\"\"\n",
                "    Create a STAC item.\n",
                "\n",
                "    Parameters\n",
                "    ----------\n",
                "    image_path : str\n",
                "        Path to the COG image.\n",
                "    metadata_path : str\n",
                "        Path to the metadata.\n",
                "\n",
                "    Returns\n",
                "    -------\n",
                "    item : pystac.Item\n",
                "    \"\"\"\n",
                "    # Read the image data\n",
                "    with rasterio.open(image_path) as src:\n",
                "        image_data = src.read()\n",
                "        image_meta = src.profile\n",
                "        image_meta['crs'] = src.crs.to_epsg()\n",
                "        image_meta['transform'] = src.transform\n",
                "        image_meta['bounds'] = list(src.bounds)\n",
                "\n",
                "    # Read the metadata\n",
                "    with open(metadata_path) as f:\n",
                "        metadata = json.load(f)\n",
                "\n",
                "    # Collect image properties\n",
                "    image_date = datetime.utcfromtimestamp(metadata['properties']['system:time_start']/1000)\n",
                "    image_id = image_path.split('/')[-1].replace('-cog.tif', '')\n",
                "    cell_id = int(image_id.split('_')[0])\n",
                "    image_geom = get_qq_bbox(cell_id)\n",
                "    image_height = image_data.shape[1]\n",
                "    image_width = image_data.shape[-1]\n",
                "    image_bands = metadata['bands']\n",
                "\n",
                "    # Create item\n",
                "    item = pystac.Item(\n",
                "        id=image_id,\n",
                "        geometry=image_geom['features'][0]['geometry'],\n",
                "        bbox=image_geom['bbox'],\n",
                "        datetime=image_date,\n",
                "        properties={},\n",
                "    )\n",
                "\n",
                "    # Add the EO extension\n",
                "    bands = [Band.create(name=b['id'], common_name=b.get('name')) for b in image_bands]\n",
                "    eo = EOExtension.ext(item, add_if_missing=True)\n",
                "    eo.apply(bands=bands)\n",
                "\n",
                "    # Add Assets\n",
                "    github_url = 'https://raw.githubusercontent.com/Ecotrust/forestbenchmarking/main/'\n",
                "    item.add_asset('image', pystac.Asset(href=github_url + image_path[3:], media_type=pystac.MediaType.COG))\n",
                "    item.add_asset('metadata', pystac.Asset(href=github_url + metadata_path[3:], media_type=pystac.MediaType.JSON))\n",
                "    item.add_asset('thumbnail', pystac.Asset(href=github_url + thumb_path[3:], media_type=pystac.MediaType.PNG))\n",
                "\n",
                "    return item\n"
            ]
        },
        {
            "cell_type": "markdown",
            "metadata": {},
            "source": [
                "# Build STAC catalog"
            ]
        },
        {
            "cell_type": "code",
            "execution_count": 6,
            "metadata": {},
            "outputs": [],
            "source": [
                "# Generate paths to the data\n",
                "import re\n",
                "\n",
                "\n",
                "collection_descriptions = {'GFLandsat_V1': 'GFLandsat V1 dataset for Oregon state',\n",
                "                           'LandTrendr': 'LandTrendr implementation for Google Earth Engine (GEE) platform',\n",
                "                           'NAIP': 'NAIP imagery for Oregon State',\n",
                "                           '3DEP': '3DEP elevation data for Oregon State'}\n",
                "\n",
                "item_paths = {'labels': glob.glob('../data/external/labels/*.geojson'), 'data':{}}\n",
                "\n",
                "collection_paths = [d[0] for d in os.walk('../data/processed') \n",
                "                    if len(list(filter(None, d[0].split('/')))) == 4]\n",
                "\n",
                "for path in collection_paths:\n",
                "    collection_name = path.split('/')[-1]\n",
                "    item_paths['data'][collection_name] = {\n",
                "        'images': glob.glob(f'{path}/**/*.tif', recursive=True),\n",
                "        'metadata': glob.glob(f'{path}/**/*.json', recursive=True),\n",
                "        'thumbnail': glob.glob(f'{path}/**/*.png', recursive=True),\n",
                "        'description': collection_descriptions[collection_name]\n",
                "    }"
            ]
        },
        {
            "cell_type": "code",
            "execution_count": 7,
            "metadata": {},
            "outputs": [
                {
                    "name": "stderr",
                    "output_type": "stream",
                    "text": [
                        "Warning 1: TIFFReadDirectory:Sum of Photometric type-related color channels and ExtraSamples doesn't match SamplesPerPixel. Defining non-color channels as ExtraSamples.\n",
                        "Warning 1: TIFFReadDirectory:Sum of Photometric type-related color channels and ExtraSamples doesn't match SamplesPerPixel. Defining non-color channels as ExtraSamples.\n",
                        "Warning 1: TIFFReadDirectory:Sum of Photometric type-related color channels and ExtraSamples doesn't match SamplesPerPixel. Defining non-color channels as ExtraSamples.\n",
                        "Warning 1: TIFFReadDirectory:Sum of Photometric type-related color channels and ExtraSamples doesn't match SamplesPerPixel. Defining non-color channels as ExtraSamples.\n",
                        "Warning 1: TIFFReadDirectory:Sum of Photometric type-related color channels and ExtraSamples doesn't match SamplesPerPixel. Defining non-color channels as ExtraSamples.\n",
                        "Warning 1: TIFFReadDirectory:Sum of Photometric type-related color channels and ExtraSamples doesn't match SamplesPerPixel. Defining non-color channels as ExtraSamples.\n",
                        "Warning 1: TIFFReadDirectory:Sum of Photometric type-related color channels and ExtraSamples doesn't match SamplesPerPixel. Defining non-color channels as ExtraSamples.\n",
                        "Warning 1: TIFFReadDirectory:Sum of Photometric type-related color channels and ExtraSamples doesn't match SamplesPerPixel. Defining non-color channels as ExtraSamples.\n",
                        "Warning 1: TIFFReadDirectory:Sum of Photometric type-related color channels and ExtraSamples doesn't match SamplesPerPixel. Defining non-color channels as ExtraSamples.\n",
                        "Warning 1: TIFFReadDirectory:Sum of Photometric type-related color channels and ExtraSamples doesn't match SamplesPerPixel. Defining non-color channels as ExtraSamples.\n"
                    ]
                }
            ],
            "source": [
                "lc_attr = {\n",
                "    'label_description':'USGS Anderson Level 1 land use code',\n",
                "    'label_type': LabelType.VECTOR,\n",
                "    'label_properties': ['USGS_ANDER'],\n",
                "    'label_name': 'USGS Anderson Level 1 land use code',\n",
                "    'label_date': datetime(2009,1,1),\n",
                "    'label_tasks': ['classification']\n",
                "}\n",
                "\n",
                "label_collection = pystac.Collection(\n",
                "    id=f'{fbench.id}-labels',\n",
                "    description='',\n",
                "    extent=pystac.SpatialExtent(qq_shp.total_bounds.tolist())\n",
                ")\n",
                "\n",
                "for dataset in item_paths['data'].keys():\n",
                "    # Create one collection for each dataset\n",
                "    fbench_collection = pystac.Collection(\n",
                "        id=dataset,\n",
                "        description=item_paths['data'][dataset]['description'],\n",
                "        extent=pystac.SpatialExtent(qq_shp.total_bounds.tolist())\n",
                "    )\n",
                "\n",
                "    dataset_paths = zip(\n",
                "        item_paths['data'][dataset]['images'], \n",
                "        item_paths['data'][dataset]['metadata'], \n",
                "        item_paths['data'][dataset]['thumbnail'] \n",
                "    )\n",
                "\n",
                "    # Create items\n",
                "    for image_path, metadata_path, thumbnail_path in dataset_paths:\n",
                "        item = create_item(image_path, thumbnail_path, metadata_path)\n",
                "        fbench_collection.add_item(item)\n",
                "\n",
                "    fbench.add_child(fbench_collection)\n",
                "\n",
                "# Create labels and add references to the source items\n",
                "for label_path in item_paths['labels']:\n",
                "    label_item = create_label_item(fbench, label_path, lc_attr)\n",
                "    label_collection.add_item(label_item)\n",
                "    \n",
                "fbench.add_child(label_collection)"
            ]
        },
        {
            "cell_type": "code",
            "execution_count": 8,
            "metadata": {},
            "outputs": [
                {
                    "name": "stdout",
                    "output_type": "stream",
                    "text": [
                        "* <Catalog id=forest_benchmarking>\n",
                        "    * <Collection id=3DEP>\n",
                        "      * <Item id=108243_3DEP_10mDEM>\n",
                        "      * <Item id=108244_3DEP_10mDEM>\n",
                        "      * <Item id=109086_3DEP_10mDEM>\n",
                        "      * <Item id=109087_3DEP_10mDEM>\n",
                        "      * <Item id=109088_3DEP_10mDEM>\n",
                        "    * <Collection id=GFLandsat_V1>\n",
                        "      * <Item id=108243_Gap_Filled_Landsat_CONUS_2011_leafon>\n",
                        "      * <Item id=108244_Gap_Filled_Landsat_CONUS_2011_leafon>\n",
                        "      * <Item id=109086_Gap_Filled_Landsat_CONUS_2011_leafon>\n",
                        "      * <Item id=109087_Gap_Filled_Landsat_CONUS_2011_leafon>\n",
                        "      * <Item id=109088_Gap_Filled_Landsat_CONUS_2011_leafon>\n",
                        "    * <Collection id=LandTrendr>\n",
                        "      * <Item id=108243_LandTrendr_8B_SWIR1-NBR_2011>\n",
                        "      * <Item id=108244_LandTrendr_8B_SWIR1-NBR_2011>\n",
                        "      * <Item id=109086_LandTrendr_8B_SWIR1-NBR_2011>\n",
                        "      * <Item id=109087_LandTrendr_8B_SWIR1-NBR_2011>\n",
                        "      * <Item id=109088_LandTrendr_8B_SWIR1-NBR_2011>\n",
                        "    * <Collection id=NAIP>\n",
                        "      * <Item id=108243_OR_NAIP_DOQQ_2011>\n",
                        "      * <Item id=108244_OR_NAIP_DOQQ_2011>\n",
                        "      * <Item id=109086_OR_NAIP_DOQQ_2011>\n",
                        "      * <Item id=109087_OR_NAIP_DOQQ_2011>\n",
                        "      * <Item id=109088_OR_NAIP_DOQQ_2011>\n",
                        "    * <Collection id=forest_benchmarking-labels>\n",
                        "      * <Item id=108243_stands_malheur-usfs_2009-labels>\n",
                        "      * <Item id=108244_stands_malheur-usfs_2009-labels>\n",
                        "      * <Item id=109086_stands_malheur-usfs_2009-labels>\n",
                        "      * <Item id=109087_stands_malheur-usfs_2009-labels>\n",
                        "      * <Item id=109088_stands_malheur-usfs_2009-labels>\n"
                    ]
                }
            ],
            "source": [
                "fbench.describe()"
            ]
        },
        {
            "cell_type": "markdown",
            "metadata": {},
            "source": [
                "# Validate"
            ]
        },
        {
            "cell_type": "code",
            "execution_count": 9,
            "metadata": {},
            "outputs": [
                {
                    "data": {
                        "text/plain": [
                            "['https://schemas.stacspec.org/v1.0.0/catalog-spec/json-schema/catalog.json']"
                        ]
                    },
                    "execution_count": 9,
                    "metadata": {},
                    "output_type": "execute_result"
                }
            ],
            "source": [
                "fbench.normalize_hrefs('forest_benchmarking')\n",
                "fbench.validate()"
            ]
        },
        {
            "cell_type": "markdown",
            "metadata": {},
            "source": [
                "# Save the catalog"
            ]
        },
        {
            "cell_type": "code",
            "execution_count": 10,
            "metadata": {},
            "outputs": [],
            "source": [
                "!rm -r ../data/forest_benchmarking_catalog\n",
                "fbench.save(catalog_type=pystac.CatalogType.SELF_CONTAINED, dest_href='../data/forest_benchmarking_catalog')"
            ]
        },
        {
            "cell_type": "code",
            "execution_count": null,
            "metadata": {},
            "outputs": [],
            "source": []
        }
    ],
    "metadata": {
        "kernelspec": {
            "display_name": "Python 3.9.13 ('fbench-env')",
            "language": "python",
            "name": "python3"
        },
        "language_info": {
            "codemirror_mode": {
                "name": "ipython",
                "version": 3
            },
            "file_extension": ".py",
            "mimetype": "text/x-python",
            "name": "python",
            "nbconvert_exporter": "python",
            "pygments_lexer": "ipython3",
            "version": "3.9.13"
        },
        "orig_nbformat": 4,
        "vscode": {
            "interpreter": {
                "hash": "c486b4df4e8ef3d32522c8e083da89b930152e4194a7b9d2277ee39a5253a25c"
            }
        }
    },
    "nbformat": 4,
    "nbformat_minor": 2
}
